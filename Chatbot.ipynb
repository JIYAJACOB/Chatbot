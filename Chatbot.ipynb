{
  "nbformat": 4,
  "nbformat_minor": 0,
  "metadata": {
    "colab": {
      "provenance": []
    },
    "kernelspec": {
      "name": "python3",
      "display_name": "Python 3"
    },
    "language_info": {
      "name": "python"
    }
  },
  "cells": [
    {
      "cell_type": "code",
      "source": [
        "import warnings"
      ],
      "metadata": {
        "id": "e_nf_o3gCLjs"
      },
      "execution_count": null,
      "outputs": []
    },
    {
      "cell_type": "code",
      "source": [
        "warnings.filterwarnings('ignore')"
      ],
      "metadata": {
        "id": "Q3Wbr3GRCPQt"
      },
      "execution_count": null,
      "outputs": []
    },
    {
      "cell_type": "code",
      "execution_count": null,
      "metadata": {
        "id": "MPLN5afQ1NJE"
      },
      "outputs": [],
      "source": [
        "txt = open('/content/drive/MyDrive/my notes/NLP/chatbot.txt',errors='ignore')\n",
        "raw_txt = txt.read()\n",
        "raw_txt = raw_txt.lower()"
      ]
    },
    {
      "cell_type": "code",
      "source": [
        "raw_txt"
      ],
      "metadata": {
        "id": "9kMCAqay160Y"
      },
      "execution_count": null,
      "outputs": []
    },
    {
      "cell_type": "markdown",
      "source": [
        "**preprocessing**"
      ],
      "metadata": {
        "id": "mrkp9Gfi2f3C"
      }
    },
    {
      "cell_type": "code",
      "source": [
        "import nltk\n",
        "nltk.download('punkt')"
      ],
      "metadata": {
        "colab": {
          "base_uri": "https://localhost:8080/"
        },
        "id": "mbNlQyoD19-M",
        "outputId": "fac61839-19de-4b47-8229-01ea7508739a"
      },
      "execution_count": null,
      "outputs": [
        {
          "output_type": "stream",
          "name": "stderr",
          "text": [
            "[nltk_data] Downloading package punkt to /root/nltk_data...\n",
            "[nltk_data]   Unzipping tokenizers/punkt.zip.\n"
          ]
        },
        {
          "output_type": "execute_result",
          "data": {
            "text/plain": [
              "True"
            ]
          },
          "metadata": {},
          "execution_count": 2
        }
      ]
    },
    {
      "cell_type": "code",
      "source": [
        "sentence_tokens = nltk.sent_tokenize(raw_txt) # convetrs to list of sentences\n",
        "word_tokens = nltk.word_tokenize(raw_txt)     #converts to list of words"
      ],
      "metadata": {
        "id": "048RlJrL2dQa"
      },
      "execution_count": null,
      "outputs": []
    },
    {
      "cell_type": "code",
      "source": [
        "# sentence_tokens"
      ],
      "metadata": {
        "id": "ns81iRsv3E7a"
      },
      "execution_count": null,
      "outputs": []
    },
    {
      "cell_type": "code",
      "source": [
        "# word_tokens"
      ],
      "metadata": {
        "id": "mht_P9E-3Voe"
      },
      "execution_count": null,
      "outputs": []
    },
    {
      "cell_type": "code",
      "source": [
        "# defining a function at which the tokens will be taken as input and return the normalised tokens."
      ],
      "metadata": {
        "id": "lmmDqsHQ3bWX"
      },
      "execution_count": null,
      "outputs": []
    },
    {
      "cell_type": "code",
      "source": [
        "#lemmatization\n",
        "from nltk.stem import WordNetLemmatizer\n",
        "import string"
      ],
      "metadata": {
        "id": "PY8O6AtO4CZC"
      },
      "execution_count": null,
      "outputs": []
    },
    {
      "cell_type": "code",
      "source": [
        "print(chr(65))\n",
        "print(ord('A'))"
      ],
      "metadata": {
        "colab": {
          "base_uri": "https://localhost:8080/"
        },
        "id": "KN8N-EBkbRIg",
        "outputId": "05213442-14ed-4a03-f6b7-6cc3414285ee"
      },
      "execution_count": null,
      "outputs": [
        {
          "output_type": "stream",
          "name": "stdout",
          "text": [
            "A\n",
            "65\n"
          ]
        }
      ]
    },
    {
      "cell_type": "code",
      "source": [
        "lemmatizer = WordNetLemmatizer()\n",
        "def lematization(tokens):\n",
        "  return [lemmatizer.lemmatize(token) for token in tokens]\n",
        "remove_punct_from = dict((ord(punkt),None) for punkt in string.punctuation)\n",
        "def normalising_lemmatizer(text):\n",
        "  return lematization(nltk.word_tokenize(text.lower().translate(remove_punct_from)))"
      ],
      "metadata": {
        "id": "h46b0aQo4R3l"
      },
      "execution_count": null,
      "outputs": []
    },
    {
      "cell_type": "code",
      "source": [
        "text =  '''a chatbot (also known as a talkbot, chatterbot, bot, im bot, interactive agent, \n",
        "    or artificial conversational entity) is a computer program or an \n",
        "    artificial intelligence which conducts a conversation via auditory or textual methods. '''"
      ],
      "metadata": {
        "id": "L4GpGzPvzOCw"
      },
      "execution_count": null,
      "outputs": []
    },
    {
      "cell_type": "code",
      "source": [
        "print(text.lower().translate(remove_punct_from))"
      ],
      "metadata": {
        "colab": {
          "base_uri": "https://localhost:8080/"
        },
        "id": "SYsZ4WBZ0O0s",
        "outputId": "8c46cc9c-6648-4f59-d778-cf6214ed9f56"
      },
      "execution_count": null,
      "outputs": [
        {
          "output_type": "stream",
          "name": "stdout",
          "text": [
            "a chatbot also known as a talkbot chatterbot bot im bot interactive agent \n",
            "    or artificial conversational entity is a computer program or an \n",
            "    artificial intelligence which conducts a conversation via auditory or textual methods \n"
          ]
        }
      ]
    },
    {
      "cell_type": "code",
      "source": [
        "normalising_lemmatizer(\"this product being under deoped by ggogle!\")"
      ],
      "metadata": {
        "colab": {
          "base_uri": "https://localhost:8080/"
        },
        "id": "IWyVswWzcet9",
        "outputId": "435f5d95-5168-4017-827e-6a8106b77d36"
      },
      "execution_count": null,
      "outputs": [
        {
          "output_type": "execute_result",
          "data": {
            "text/plain": [
              "['this', 'product', 'is', 'developed', 'by', 'ggogle']"
            ]
          },
          "metadata": {},
          "execution_count": 37
        }
      ]
    },
    {
      "cell_type": "code",
      "source": [
        "remove_punct_from"
      ],
      "metadata": {
        "id": "cnT6xW10aurD",
        "colab": {
          "base_uri": "https://localhost:8080/"
        },
        "outputId": "0f1c33a1-dca3-4863-bdcf-49a0164a9c06"
      },
      "execution_count": null,
      "outputs": [
        {
          "output_type": "execute_result",
          "data": {
            "text/plain": [
              "{33: None,\n",
              " 34: None,\n",
              " 35: None,\n",
              " 36: None,\n",
              " 37: None,\n",
              " 38: None,\n",
              " 39: None,\n",
              " 40: None,\n",
              " 41: None,\n",
              " 42: None,\n",
              " 43: None,\n",
              " 44: None,\n",
              " 45: None,\n",
              " 46: None,\n",
              " 47: None,\n",
              " 58: None,\n",
              " 59: None,\n",
              " 60: None,\n",
              " 61: None,\n",
              " 62: None,\n",
              " 63: None,\n",
              " 64: None,\n",
              " 91: None,\n",
              " 92: None,\n",
              " 93: None,\n",
              " 94: None,\n",
              " 95: None,\n",
              " 96: None,\n",
              " 123: None,\n",
              " 124: None,\n",
              " 125: None,\n",
              " 126: None}"
            ]
          },
          "metadata": {},
          "execution_count": 12
        }
      ]
    },
    {
      "cell_type": "markdown",
      "source": [
        "**KEYWORD MATCHING**"
      ],
      "metadata": {
        "id": "kO0NEpg57I7A"
      }
    },
    {
      "cell_type": "code",
      "source": [
        "import random"
      ],
      "metadata": {
        "id": "NijCaXMf7iHL"
      },
      "execution_count": null,
      "outputs": []
    },
    {
      "cell_type": "code",
      "source": [
        "greeting_inputs = (\"hello\", \"hi\",\"hai\", \"greetings\", \"sup\", \"what's up\",\"hey\",)\n",
        "greeting_responses = [\"hello\", \"I am glad! You are talking to me\"]\n",
        "def greetings(inputs):\n",
        "  for word in inputs.split():\n",
        "    if word.lower() in greeting_inputs:\n",
        "      return random.choice(greeting_responses)"
      ],
      "metadata": {
        "id": "3VVSDcri6tEL"
      },
      "execution_count": null,
      "outputs": []
    },
    {
      "cell_type": "markdown",
      "source": [
        "**GENERATING RESPONSE**"
      ],
      "metadata": {
        "id": "Ft1oo_yL9DfQ"
      }
    },
    {
      "cell_type": "markdown",
      "source": [
        "**TF-IDF approach**"
      ],
      "metadata": {
        "id": "Z1m9lHPM9iKd"
      }
    },
    {
      "cell_type": "code",
      "source": [
        "from sklearn.feature_extraction.text import TfidfVectorizer\n",
        "from sklearn.metrics.pairwise import cosine_similarity #[similarity between two vectors]"
      ],
      "metadata": {
        "id": "X2UMH6D18v8-"
      },
      "execution_count": null,
      "outputs": []
    },
    {
      "cell_type": "code",
      "source": [
        "def generate_response(response):\n",
        "  bot_response =''\n",
        "  sentence_tokens.append(response)\n",
        "\n",
        "  vectorizer =TfidfVectorizer(tokenizer=normalising_lemmatizer,stop_words='english')\n",
        "\n",
        "  fiting_vectorizer = vectorizer.fit_transform(sentence_tokens)\n",
        "\n",
        "  cosine_values = cosine_similarity(fiting_vectorizer[-1],fiting_vectorizer)\n",
        "\n",
        "  idx  = cosine_values.argsort()[0][-2] # index\n",
        "  flat = cosine_values.flatten() # converting a matrix to one dimension.\n",
        "  flat.sort()\n",
        "\n",
        "  req_fiting_vectorizer = flat[-2]\n",
        "\n",
        "  if(req_fiting_vectorizer==0):\n",
        "    bot_response=bot_response+\"I am sorry! I don't understand you\"\n",
        "    return bot_response\n",
        "  else:\n",
        "    bot_response = bot_response+sentence_tokens[idx]\n",
        "    return bot_response"
      ],
      "metadata": {
        "id": "Uz_vcpwJKX0l"
      },
      "execution_count": null,
      "outputs": []
    },
    {
      "cell_type": "code",
      "source": [],
      "metadata": {
        "id": "ZJ8lBOEBc9jB"
      },
      "execution_count": null,
      "outputs": []
    },
    {
      "cell_type": "code",
      "source": [],
      "metadata": {
        "id": "1lpDwU5Yc9ZZ"
      },
      "execution_count": null,
      "outputs": []
    },
    {
      "cell_type": "code",
      "source": [],
      "metadata": {
        "id": "POqoZOEKc9WC"
      },
      "execution_count": null,
      "outputs": []
    },
    {
      "cell_type": "code",
      "source": [
        "# vectorizer =TfidfVectorizer(tokenizer=normalising_lemmatizer)\n",
        "# print('TfidfVectorizer:',vectorizer)"
      ],
      "metadata": {
        "id": "uamzvvdHQXnS"
      },
      "execution_count": null,
      "outputs": []
    },
    {
      "cell_type": "code",
      "source": [
        "# nltk.download('wordnet')"
      ],
      "metadata": {
        "id": "dHJDaJgnRDCk"
      },
      "execution_count": null,
      "outputs": []
    },
    {
      "cell_type": "code",
      "source": [
        "# nltk.download('omw-1.4')"
      ],
      "metadata": {
        "id": "SVK2yHkHRNbp"
      },
      "execution_count": null,
      "outputs": []
    },
    {
      "cell_type": "code",
      "source": [
        "# fiting_vectorizer = vectorizer.fit_transform(sentence_tokens)\n",
        "# print('fited_vector:',fiting_vectorizer)"
      ],
      "metadata": {
        "id": "VQN2FDBhQnkT"
      },
      "execution_count": null,
      "outputs": []
    },
    {
      "cell_type": "code",
      "source": [
        "# cosine_values = cosine_similarity(fiting_vectorizer[-1],fiting_vectorizer)\n",
        "# print('cosine_values:',cosine_values)"
      ],
      "metadata": {
        "id": "Cr8kt2yoQtYe"
      },
      "execution_count": null,
      "outputs": []
    },
    {
      "cell_type": "code",
      "source": [
        "# idx= cosine_values.argsort()[0][-2] #-1 is the i/p text which is similar to itself , -2 is the most similar i/p\n",
        "# print(\"idx: \",idx)"
      ],
      "metadata": {
        "id": "H5tB2bZjRTqU"
      },
      "execution_count": null,
      "outputs": []
    },
    {
      "cell_type": "code",
      "source": [
        "# flat = cosine_values.flatten()\n",
        "# print(\"flat: \",flat)"
      ],
      "metadata": {
        "id": "q06KOj2tR8hN"
      },
      "execution_count": null,
      "outputs": []
    },
    {
      "cell_type": "code",
      "source": [
        "# flat.sort()"
      ],
      "metadata": {
        "id": "xOUA-M9TSDSL"
      },
      "execution_count": null,
      "outputs": []
    },
    {
      "cell_type": "code",
      "source": [
        "# flat"
      ],
      "metadata": {
        "id": "vu2P-mbgBMD2"
      },
      "execution_count": null,
      "outputs": []
    },
    {
      "cell_type": "code",
      "source": [
        "# req_fiting_vectorizer = flat[-2]\n",
        "# print(\"req_fiting_vectorizer : \",req_fiting_vectorizer)"
      ],
      "metadata": {
        "id": "LM8fIeVzSKrx"
      },
      "execution_count": null,
      "outputs": []
    },
    {
      "cell_type": "code",
      "source": [
        "nltk.download('wordnet')"
      ],
      "metadata": {
        "colab": {
          "base_uri": "https://localhost:8080/"
        },
        "id": "y-Z05-dhiwld",
        "outputId": "8a55b40a-d31b-4479-ecd9-9a82d5ad64e2"
      },
      "execution_count": null,
      "outputs": [
        {
          "output_type": "stream",
          "name": "stderr",
          "text": [
            "[nltk_data] Downloading package wordnet to /root/nltk_data...\n"
          ]
        },
        {
          "output_type": "execute_result",
          "data": {
            "text/plain": [
              "True"
            ]
          },
          "metadata": {},
          "execution_count": 8
        }
      ]
    },
    {
      "cell_type": "code",
      "source": [
        "nltk.download('omw-1.4')"
      ],
      "metadata": {
        "colab": {
          "base_uri": "https://localhost:8080/"
        },
        "id": "y5hIah3gi4f8",
        "outputId": "e9943b17-a33b-419b-aa5e-ef6cbad5fee7"
      },
      "execution_count": null,
      "outputs": [
        {
          "output_type": "stream",
          "name": "stderr",
          "text": [
            "[nltk_data] Downloading package omw-1.4 to /root/nltk_data...\n"
          ]
        },
        {
          "output_type": "execute_result",
          "data": {
            "text/plain": [
              "True"
            ]
          },
          "metadata": {},
          "execution_count": 9
        }
      ]
    },
    {
      "cell_type": "code",
      "source": [
        "flag=True\n",
        "print(\"ROBO: My name is Robo. I will answer your queries about Chatbots. If you want to exit, type Bye!\")\n",
        "while(flag==True):\n",
        "    response = input()\n",
        "    response = response.lower()\n",
        "    if(response!='bye'):\n",
        "        if(response=='thanks' or response=='thank you' ):\n",
        "            flag=False\n",
        "            print(\"ROBO: You are welcome..\")\n",
        "        else:\n",
        "            if(greetings(response)!=None):\n",
        "                print(\"ROBO: \"+greetings(response))\n",
        "            else:\n",
        "                print(\"ROBO: \",end=\"\")\n",
        "                print(generate_response(response))\n",
        "                sentence_tokens.remove(response)\n",
        "    else:\n",
        "        flag=False\n",
        "        print(\"ROBO: Bye! take care..\")"
      ],
      "metadata": {
        "id": "aRsqG7WvSzbA",
        "colab": {
          "base_uri": "https://localhost:8080/"
        },
        "outputId": "09e4f064-39a1-4c83-87ef-24a858eab38b"
      },
      "execution_count": null,
      "outputs": [
        {
          "output_type": "stream",
          "name": "stdout",
          "text": [
            "ROBO: My name is Robo. I will answer your queries about Chatbots. If you want to exit, type Bye!\n",
            "bye\n",
            "ROBO: Bye! take care..\n"
          ]
        }
      ]
    },
    {
      "cell_type": "code",
      "source": [],
      "metadata": {
        "id": "VwrXR13tTpYe"
      },
      "execution_count": null,
      "outputs": []
    }
  ]
}